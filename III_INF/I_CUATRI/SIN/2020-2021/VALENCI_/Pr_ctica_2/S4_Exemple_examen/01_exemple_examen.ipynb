{
 "cells": [
  {
   "cell_type": "markdown",
   "metadata": {},
   "source": [
    "<p style=\"page-break-after:always;\"></p>"
   ]
  },
  {
   "cell_type": "markdown",
   "metadata": {},
   "source": [
    "A continuació es mostra un resultat inicial (baseline) usant un classificador de regressió logística estimat amb els paràmetres per defecte i dedicant un 90% de les dades per a entrenament i un 10% per a avaluació (random_state=23)."
   ]
  },
  {
   "cell_type": "code",
   "execution_count": 1,
   "metadata": {},
   "outputs": [
    {
     "name": "stdout",
     "output_type": "stream",
     "text": [
      "Test error:  10.9%\n"
     ]
    }
   ],
   "source": [
    "import warnings; warnings.filterwarnings(\"ignore\"); import numpy as np\n",
    "from sklearn.datasets import fetch_openml\n",
    "from sklearn.model_selection import train_test_split\n",
    "from sklearn.linear_model import LogisticRegression\n",
    "from sklearn.metrics import accuracy_score\n",
    "\n",
    "data_id = 1461\n",
    "test_size = 0.1\n",
    "X, y = fetch_openml(data_id=data_id, return_X_y=True, as_frame=False, parser=\"liac-arff\")\n",
    "# Valors dels paràmetres per defecte: tol=1e-4, C=1e0, solver='lbfgs', max_iter=1e2\n",
    "X_train, X_test, y_train, y_test = train_test_split(X, y, test_size=test_size, random_state=23)\n",
    "clf = LogisticRegression(random_state=23).fit(X_train, y_train)\n",
    "print(f'Test error: {(1 - accuracy_score(y_test, clf.predict(X_test)))*100:5.1f}%')"
   ]
  },
  {
   "cell_type": "markdown",
   "metadata": {},
   "source": [
    "<p style=\"page-break-after:always;\"></p>"
   ]
  },
  {
   "cell_type": "markdown",
   "metadata": {},
   "source": [
    "### Exercici 1\n",
    "Aplicant el classificador de regressió logística amb els valors dels paràmetres per defecte excepte per al paràmetre C, explora els valors del paràmetre C en escala logarítmica per a determinar el seu valor òptim. Per a cada valor explorat, mostra l'error de classificació en percentatge sobre els conjunts d'entrenament i test. Usa random_state=23. "
   ]
  },
  {
   "cell_type": "code",
   "execution_count": 2,
   "metadata": {},
   "outputs": [
    {
     "name": "stdout",
     "output_type": "stream",
     "text": [
      "   solver     tol       C max_iter   etr   ete\n",
      "--------- ------- ------- -------- ----- -----\n",
      "    lbfgs 1.0e-04 1.0e-03      100 11.3% 11.0%\n",
      "    lbfgs 1.0e-04 1.0e-02      100 11.3% 10.8%\n",
      "    lbfgs 1.0e-04 1.0e-01      100 11.3% 10.8%\n",
      "    lbfgs 1.0e-04 1.0e+00      100 11.2% 10.9%\n",
      "    lbfgs 1.0e-04 1.0e+01      100 11.3% 10.9%\n",
      "    lbfgs 1.0e-04 1.0e+02      100 11.3% 10.8%\n",
      "    lbfgs 1.0e-04 1.0e+03      100 11.3% 10.8%\n"
     ]
    }
   ],
   "source": [
    "print('   solver     tol       C max_iter   etr   ete')\n",
    "print('--------- ------- ------- -------- ----- -----')\n",
    "for solver in ['lbfgs']:\n",
    "    for tol in [1e-4]:\n",
    "        for C in [1e-3, 1e-2, 1e-1, 1e0, 1e1, 1e2, 1e3]:\n",
    "            for max_iter in [100]:\n",
    "                clf = LogisticRegression(solver=solver, tol=tol, C=C, max_iter=max_iter, random_state=23).fit(X_train, y_train)\n",
    "                etr = 1 - accuracy_score(y_train, clf.predict(X_train))\n",
    "                ete = 1 - accuracy_score(y_test, clf.predict(X_test))\n",
    "                print(f'{solver:>9} {tol:.1e} {C:.1e} {max_iter:8d} {etr:5.1%} {ete:5.1%}')"
   ]
  },
  {
   "cell_type": "markdown",
   "metadata": {},
   "source": [
    "<p style=\"page-break-after:always;\"></p>"
   ]
  },
  {
   "cell_type": "markdown",
   "metadata": {},
   "source": [
    "### Exercici 2\n",
    "Aplicant el classificador de regressió logística amb els valors dels paràmetres per defecte excepte per al paràmetre C que ha de ser fixat al millor valor obtingut en l'exercici 1, explora el màxim nombre d'iteracions en escala logarítimca per a determinar el seu valor òptim. Per a cada valor explorat, mostra l'error de classificació en percentatge sobre els conjunts d'entrenament i test. Usa random_state=23. "
   ]
  },
  {
   "cell_type": "code",
   "execution_count": 3,
   "metadata": {},
   "outputs": [
    {
     "name": "stdout",
     "output_type": "stream",
     "text": [
      "   solver     tol       C max_iter   etr   ete\n",
      "--------- ------- ------- -------- ----- -----\n",
      "    lbfgs 1.0e-04 1.0e+01      100 11.3% 10.9%\n",
      "    lbfgs 1.0e-04 1.0e+01      200 11.2% 10.5%\n",
      "    lbfgs 1.0e-04 1.0e+01      500 11.1% 10.5%\n",
      "    lbfgs 1.0e-04 1.0e+01     1000 11.2% 10.4%\n",
      "    lbfgs 1.0e-04 1.0e+01     2000 11.1% 10.2%\n",
      "    lbfgs 1.0e-04 1.0e+01     5000 10.9% 10.2%\n",
      "    lbfgs 1.0e-04 1.0e+01    10000 11.0% 10.2%\n"
     ]
    }
   ],
   "source": [
    "print('   solver     tol       C max_iter   etr   ete')\n",
    "print('--------- ------- ------- -------- ----- -----')\n",
    "for solver in ['lbfgs']:\n",
    "    for tol in [1e-4]:\n",
    "        for C in [1e1]:\n",
    "            for max_iter in [100, 200, 500, 1000, 2000, 5000, 10000]:\n",
    "                clf = LogisticRegression(solver=solver, tol=tol, C=C, max_iter=max_iter, random_state=23).fit(X_train, y_train)\n",
    "                etr = 1 - accuracy_score(y_train, clf.predict(X_train))\n",
    "                ete = 1 - accuracy_score(y_test, clf.predict(X_test))\n",
    "                print(f'{solver:>9} {tol:.1e} {C:.1e} {max_iter:8d} {etr:5.1%} {ete:5.1%}')"
   ]
  },
  {
   "cell_type": "markdown",
   "metadata": {},
   "source": [
    "<p style=\"page-break-after:always;\"></p>"
   ]
  },
  {
   "cell_type": "markdown",
   "metadata": {},
   "source": [
    "### Exercici 3\n",
    "Aplicant el classificador de regressió logística amb els valors dels paràmetres per defecte excepte per al paràmetre C i el màxim nombre d'iteracions que han de ser fixats als millors valors obtinguts en els exercicis 1 i 2, explora difertentes tipus de solver. Per a cada solver explorat, mostra l'error de classificació en percentatge sobre els conjunts d'entrenament i test. Usa random_state=23."
   ]
  },
  {
   "cell_type": "code",
   "execution_count": 4,
   "metadata": {},
   "outputs": [
    {
     "name": "stdout",
     "output_type": "stream",
     "text": [
      "         solver     tol       C max_iter   etr   ete\n",
      "--------------- ------- ------- -------- ----- -----\n",
      "          lbfgs 1.0e-04 1.0e+01     5000 10.9% 10.2%\n",
      "      liblinear 1.0e-04 1.0e+01     5000 11.0% 10.3%\n",
      "      newton-cg 1.0e-04 1.0e+01     5000 11.0% 10.2%\n",
      "newton-cholesky 1.0e-04 1.0e+01     5000 11.0% 10.2%\n",
      "            sag 1.0e-04 1.0e+01     5000 11.3% 10.8%\n",
      "           saga 1.0e-04 1.0e+01     5000 11.3% 10.8%\n"
     ]
    }
   ],
   "source": [
    "print('         solver     tol       C max_iter   etr   ete')\n",
    "print('--------------- ------- ------- -------- ----- -----')\n",
    "for solver in ['lbfgs', 'liblinear', 'newton-cg', 'newton-cholesky', 'sag', 'saga']:\n",
    "    for tol in [1e-4]:\n",
    "        for C in [1e1]:\n",
    "            for max_iter in [5000]:\n",
    "                clf = LogisticRegression(solver=solver, tol=tol, C=C, random_state=23, max_iter=max_iter).fit(X_train, y_train)\n",
    "                etr = 1 - accuracy_score(y_train, clf.predict(X_train))\n",
    "                ete = 1 - accuracy_score(y_test, clf.predict(X_test))\n",
    "                print(f'{solver:>15} {tol:.1e} {C:.1e} {max_iter:8d} {etr:5.1%} {ete:5.1%}')"
   ]
  },
  {
   "cell_type": "markdown",
   "metadata": {},
   "source": [
    "### Exercici 4\n",
    "D'acord amb els resultats obtinguts, es podria afirmar que aquesta tasca és linealment separable? Raona la resposta."
   ]
  },
  {
   "cell_type": "markdown",
   "metadata": {},
   "source": [
    "No es podria afirmar que la tasca siga linealment separable ja que els percentatges d'error obtinguts estan lluny de zero per la qual cosa és raonable afirmar que aquesta tasca no ha de ser linealment separable."
   ]
  }
 ],
 "metadata": {
  "kernelspec": {
   "display_name": "Python 3",
   "language": "python",
   "name": "python3"
  },
  "language_info": {
   "codemirror_mode": {
    "name": "ipython",
    "version": 3
   },
   "file_extension": ".py",
   "mimetype": "text/x-python",
   "name": "python",
   "nbconvert_exporter": "python",
   "pygments_lexer": "ipython3",
   "version": "3.11.6"
  },
  "orig_nbformat": 4
 },
 "nbformat": 4,
 "nbformat_minor": 2
}
