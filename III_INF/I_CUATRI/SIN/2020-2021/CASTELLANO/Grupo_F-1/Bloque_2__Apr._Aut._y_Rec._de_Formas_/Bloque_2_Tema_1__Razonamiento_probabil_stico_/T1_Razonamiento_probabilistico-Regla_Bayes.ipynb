{
 "cells": [
  {
   "cell_type": "markdown",
   "metadata": {},
   "source": [
    "# T1.1 Razonamiento probabilístico: representación e inferencia\n"
   ]
  },
  {
   "cell_type": "markdown",
   "metadata": {},
   "source": [
    "# Índice\n",
    "\n",
    "1. El problema de la calificación\n",
    "2. Representación probabilística\n",
    "3. Inferencia probabilística\n",
    "4. Independencia\n",
    "5. Teorema de Bayes"
   ]
  },
  {
   "cell_type": "markdown",
   "metadata": {},
   "source": [
    "<p style=\"page-break-after:always;\"></p>"
   ]
  },
  {
   "cell_type": "markdown",
   "metadata": {},
   "source": [
    "# 1 El problema de la calificación\n",
    "\n",
    "**Problema de la calificación:** $\\;$ imposibilidad práctica de conocer y comprobar todas las **calificaciones** (condiciones) que habría que garantizar para asegurar el cumplimiento de una acción\n",
    "* Ejemplo: $\\;$ salir al aeropuerto 90 minutos antes del vuelo me permite llegar a tiempo SI no hay atascos Y no hay pinchazos Y ...\n",
    "* Ejemplo: $\\;$ un bote nos permite cruzar un río SI es un bote de remo Y tiene remos y escálamos Y no están rotos Y encajan Y ...\n",
    "\n",
    "**Incertidumbre:** $\\;$ los sistemas inteligentes actuales incluyen la **incertidumbre** como parte del conocimiento y la representan mediante **probabilidades** asociadas a los sucesos (proposiciones) de interés"
   ]
  },
  {
   "cell_type": "markdown",
   "metadata": {},
   "source": [
    "<p style=\"page-break-after:always;\"></p>"
   ]
  },
  {
   "cell_type": "markdown",
   "metadata": {},
   "source": [
    "# 2 Representación probabilística\n",
    "\n",
    "**Distribución de probabilidad conjunta:** $\\;$ de las variables aleatorias de interés para representar el conocimiento probabilístico\n",
    "\n",
    "**Ejemplo del dentista:** $\\;$ conocimiento para diagnosticar caries\n",
    "\n",
    "*Variables aleatorias de interés:*\n",
    "\n",
    "\\begin{align*}\n",
    "&\\text{Dolor:} & D&\\in\\{0,1\\}\\\\\n",
    "&\\text{Caries:}& C&\\in\\{0,1\\}\\\\\n",
    "&\\text{Hueco:} & H&\\in\\{0,1\\}\n",
    "\\end{align*}\n",
    "\n",
    "*Representación:* $\\;$ tabla a la derecha con\n",
    "$$P(D=d, C=c, H=h)\\quad\\text{para todo}\\;d, c, h\\in\\{0,1\\}$$\n",
    "\n",
    "$$\\begin{array}{llc}\n",
    "d & c & b & P\\\\[1mm]\n",
    "0 & 0 & 0 & 0.576\\\\[1mm]\n",
    "0 & 0 & 1 & 0.008\\\\[1mm]\n",
    "0 & 1 & 0 & 0.144\\\\[1mm]\n",
    "0 & 1 & 1 & 0.072\\\\[1mm]\n",
    "1 & 0 & 0 & 0.064\\\\[1mm]\n",
    "1 & 0 & 1 & 0.012\\\\[1mm]\n",
    "1 & 1 & 0 & 0.016\\\\[1mm]\n",
    "1 & 1 & 1 & 0.108\\\\[1mm]\n",
    "\\end{array}$$\n",
    "\n",
    "\n",
    "\n",
    "\n"
   ]
  },
  {
   "cell_type": "markdown",
   "metadata": {},
   "source": [
    "# 3 Inferencia probabilística\n",
    "\n",
    "**Reglas suma y producto:** $\\;$ reglas básicas para calcular la probabilidad de cualquier **suceso** (**proposición**)\n",
    "de interés a partir de la distribución conjunta\n",
    "$$P(x) = \\sum_y P(x,y)\\qquad\\text{y}\\qquad P(x,y) = P(x)\\,P(y\\mid x)$$\n",
    "\n",
    "**Observación importante:** $\\;$ en general no es necesario conocer la tabla completa de probabilidades conjuntas para calcular la probabilidad de un suceso dado mediante las reglas suma y producto\n",
    "\n",
    "**Ejemplo del dentista:** $\\;$ cálculo de la probabilidad de observar...\n",
    "* Caries y hueco (a la vez): $\\displaystyle\\;P(c=1,h=1) = \\sum_{d=0,1} P(d,c=1,h=1) = 0.180$\n",
    "* Hueco: $\\displaystyle\\;P(h=1) = \\sum_{d=0,1} \\sum_{c=0,1} P(d,c,h=1) = 0.200$\n",
    "* Caries después de observar hueco: $\\displaystyle\\;P(c=1\\mid h=1) = \\frac{P(c=1,h=1)}{P(h=1)} = \\frac{0.180}{0.200} = 0.900$"
   ]
  },
  {
   "cell_type": "code",
   "execution_count": 1,
   "metadata": {},
   "outputs": [
    {
     "name": "stdout",
     "output_type": "stream",
     "text": [
      "Pc1b1 = 0.180  Pb1 = 0.200  Pc1Db1 = 0.900\n"
     ]
    }
   ],
   "source": [
    "import numpy as np\n",
    "T = np.array([[0,0,0,.576], [0,0,1,.008], [0,1,0,.144], [0,1,1,.072], \n",
    "              [1,0,0,.064], [1,0,1,.012], [1,1,0,.016], [1,1,1,.108]])\n",
    "Pc1b1 = np.sum(T[(T[:,1]==1) & (T[:,2]==1),-1])\n",
    "Pb1 = np.sum(T[T[:,2]==1,-1])\n",
    "Pc1Db1 = Pc1b1/Pb1\n",
    "print(f\"Pc1b1 = {Pc1b1:.3f}  Pb1 = {Pb1:.3f}  Pc1Db1 = {Pc1Db1:.3f}\")"
   ]
  },
  {
   "cell_type": "markdown",
   "metadata": {},
   "source": [
    "<p style=\"page-break-after:always;\"></p>"
   ]
  },
  {
   "cell_type": "markdown",
   "metadata": {},
   "source": [
    "# 4 Independencia\n",
    "\n",
    "**Variables independientes:** $\\;$ dos variables $\\,x\\,$ y $\\,y\\,$ son **independientes** si\n",
    "$$P(x,y) = P(x)\\,P(y) \\quad\\text{o}\\quad P(x\\mid y) = P(x) \\quad\\text{o}\\quad P(y\\mid x) = P(y)$$\n",
    "\n",
    "**Conocimiento experto:** $\\;$ la independencia puede establecerse por conocimiento experto y conveniencia\n",
    "\n",
    "**Ejemplo del dentista:**\n",
    "* Consideramos una nueva variable con el tiempo que hace cuando el paciente visita el dentista\n",
    "$$T\\in\\{\\text{sol}, \\text{nubes}, \\text{lluvia}, \\text{nieve}\\}$$\n",
    "* Asumimos que las tres variables que ya teníamos son independientes del tiempo que hace\n",
    "$$P(d,c,h,t)=P(t)\\,P(d,c,h\\mid t)=P(t)\\,P(d,c,h)$$\n",
    "* Así reducimos el número de probabilidades a almacenar: $\\;32\\,$ vs $\\,4+8$"
   ]
  },
  {
   "cell_type": "markdown",
   "metadata": {},
   "source": [
    "<p style=\"page-break-after:always;\"></p>"
   ]
  },
  {
   "cell_type": "markdown",
   "metadata": {},
   "source": [
    "# 5 Teorema de Bayes\n",
    "\n",
    "**Teorema de Bayes:** $\\;$ permite actualizar nuestro conocimiento sobre una hipótesis $y$ después de observar una nueva evidencia $x$\n",
    "$$P(y\\mid x) ~=~ \\frac{P(x,y)}{P(x)} ~=~ P(y)\\,\\frac{P(x\\mid y)}{P(x)}$$\n",
    "* De otra manera: $P(y\\mid x)$ es la probabilidad de que se produzca el efecto $y$ después de observar que se ha producido la causa $x$\n",
    "\n",
    "**Ejemplo del dentista:** $\\;$\n",
    "* Sabemos que la probabilidad de caries es: $\\,P(c=1)=0.34$\n",
    "* Sabemos que la probabilidad de dolor es: $\\,P(d=1)=0.20$\n",
    "* Sabemos que la probabilidad de dolor después de observar caries es: $\\,P(d=1\\mid c=1)=0.36$\n",
    "* ¿Cúal es la probabilidad de caries después de observar dolor, $\\,P(c=1\\mid d=1)$?\n",
    "$$P(c=1\\mid d=1) = P(c=1)\\,\\frac{P(d=1\\mid c=1)}{P(d=1)} = 0.34\\,\\frac{0.36}{0.20} = 0.61$$"
   ]
  },
  {
   "cell_type": "code",
   "execution_count": 3,
   "metadata": {},
   "outputs": [
    {
     "name": "stdout",
     "output_type": "stream",
     "text": [
      "Pc1Dd1 = 0.61\n"
     ]
    }
   ],
   "source": [
    "Pc1 = 0.34; Pd1 = 0.20; Pd1c1 = 0.36; Pc1Dd1 = Pc1 * Pd1c1 / Pb1; print(f\"Pc1Dd1 = {Pc1Dd1:.2f}\")"
   ]
  },
  {
   "cell_type": "markdown",
   "metadata": {},
   "source": [
    "<p style=\"page-break-after:always;\"></p>"
   ]
  },
  {
   "cell_type": "markdown",
   "metadata": {},
   "source": [
    "# Ejercicios T1.1 Razonamiento probabilístico\n"
   ]
  },
  {
   "cell_type": "markdown",
   "metadata": {},
   "source": [
    "**2023_01_26_Cuestión 1:** $\\;$ Dada la siguiente tabla de probabilidades conjuntas de tres variables de interés:\n",
    "$$\\begin{array}{|c|cccccccc|}\\hline\n",
    "A & 0 & 0 & 0 & 0 & 1 & 1 & 1 & 1\\\\\n",
    "B & 0 & 0 & 1 & 1 & 0 & 0 & 1 & 1\\\\\n",
    "C & 0 & 1 & 0 & 1 & 0 & 1 & 0 & 1\\\\\\hline\n",
    "P(A,B,C) & 0.093 & 0.100 & 0.133 & 0.163 & 0.157 & 0.150 & 0.117 & 0.087\\\\\n",
    "\\hline\\end{array}$$\n",
    "Cúal és el valor de $P(A=1, B=1 \\mid C=1)$?\n",
    "1. $P(A=1, B=1 \\mid C=1) \\leq 0.25$\n",
    "2. $0.25 < P(A=1, B=1 \\mid C=1) \\leq 0.50$\n",
    "3. $0.50 < P(A=1, B=1 \\mid C=1) \\leq 0.75$\n",
    "4. $0.75 < P(A=1, B=1 \\mid C=1)$"
   ]
  },
  {
   "cell_type": "markdown",
   "metadata": {},
   "source": [
    "<p style=\"page-break-after:always;\"></p>"
   ]
  },
  {
   "cell_type": "markdown",
   "metadata": {},
   "source": [
    "**Solución:** $\\;$ la 1; $\\;P(A=1, B=1 \\mid C=1) = 0.174$"
   ]
  },
  {
   "cell_type": "code",
   "execution_count": 1,
   "metadata": {},
   "outputs": [
    {
     "name": "stdout",
     "output_type": "stream",
     "text": [
      "0.174\n"
     ]
    }
   ],
   "source": [
    "PA1B1C1 = 0.087; PC1 = 0.1 + 0.163 + 0.15 + 0.087; PA1B1_C1 = PA1B1C1 / PC1; print(PA1B1_C1)"
   ]
  },
  {
   "cell_type": "markdown",
   "metadata": {},
   "source": [
    "<p style=\"page-break-after:always;\"></p>"
   ]
  },
  {
   "cell_type": "markdown",
   "metadata": {},
   "source": [
    "**2023_01_17_Cuestión 1:** Supón que tenemos dos cajas con 40 naranjas en la primera y 80 en la segunda. La primera caja contiene 9 naranjas Navelina y 31 Caracara. La segunda caja contiene tres veces más naranjas Navelina que Caracara. Ahora supón que se escoge una caja al azar, y después una naranja al azar de la caja escogida. Si la naranja escogida es Navelina, la probabilidad $P$ de que proceda de la primera caja es:\n",
    "1. $0/4\\leq P<1/4$.\n",
    "2. $1/4\\leq P<2/4$.\n",
    "3. $2/4\\leq P<3/4$.\n",
    "4. $3/4\\leq P\\leq 4/4$."
   ]
  },
  {
   "cell_type": "markdown",
   "metadata": {},
   "source": [
    "<p style=\"page-break-after:always;\"></p>"
   ]
  },
  {
   "cell_type": "markdown",
   "metadata": {},
   "source": [
    "**Solución:**\n",
    "$$\\begin{align*}\n",
    "P=P(C=1\\mid T=N)&=\\frac{P(C=1)P(T=N\\mid C=1)}{P(C=1)P(T=N\\mid C=1)+P(C=2)P(T=N\\mid C=2)}\\\\%\n",
    "&=\\frac{1/2\\cdot9/40}{1/2\\cdot9/40+1/2\\cdot3/4}=\\frac{9}{9+30}=0.23\n",
    "\\end{align*}$$"
   ]
  },
  {
   "cell_type": "markdown",
   "metadata": {},
   "source": [
    "<p style=\"page-break-after:always;\"></p>"
   ]
  },
  {
   "cell_type": "markdown",
   "metadata": {},
   "source": [
    "**2022_01_27_Cuestión 4:** $\\;$ Dada la siguiente tabla de frecuencias conjuntas de tres variables de interés:\n",
    "$$\\begin{array}{|c|cccccccc|}\\hline\n",
    "A & 0 & 0 & 0 & 0 & 1 & 1 & 1 & 1\\\\\n",
    "B & 0 & 0 & 1 & 1 & 0 & 0 & 1 & 1\\\\\n",
    "C & 0 & 1 & 0 & 1 & 0 & 1 & 0 & 1\\\\\\hline\n",
    "N(A,B,C) & 124 & 28 & 227 & 175 & 126 & 222 & 23 & 75\\\\\n",
    "\\hline\\end{array}$$\n",
    "Cúal és el valor de $P(A=1 \\mid B=1,C=0)$?\n",
    "1. $0.023$\n",
    "2. $0.250$\n",
    "3. $0.092$\n",
    "4. $0.446$"
   ]
  },
  {
   "cell_type": "markdown",
   "metadata": {},
   "source": [
    "<p style=\"page-break-after:always;\"></p>"
   ]
  },
  {
   "cell_type": "markdown",
   "metadata": {},
   "source": [
    "**Solución:** $\\;$ la 3."
   ]
  },
  {
   "cell_type": "markdown",
   "metadata": {},
   "source": [
    "<p style=\"page-break-after:always;\"></p>"
   ]
  },
  {
   "cell_type": "markdown",
   "metadata": {},
   "source": [
    "**2022_01_13_Cuestión 7:** $\\;$ Sea un problema de razonamiento probabilístico sobre desplazamientos por carretera, con las variables aleatorias de interés:\n",
    "* Climatología ($C$): \\{claro(CLA), nublado (NUB), lluvia (LLU)\\}\n",
    "* Luminosidad ($L$): \\{día (DÍA), noche (NOCHE)\\}\n",
    "* Seguridad ($S$): \\{seguro (SEG), accidente (ACC)\\}\n",
    "\n",
    "La probabilidad conjunta de las tres variables viene dada en la tabla:\n",
    "$$\\begin{array}{c|ccc|ccc}\n",
    "& & \\text{DÍA} & & & \\text{NOCHE}\\\\\\hline\n",
    "P(S, L, C) & \\text{CLA} & \\text{NUB} & \\text{LLU} & \\text{CLA} & \\text{NUB} & \\text{LLU}\\\\\\hline\n",
    "\\text{SEG} & 0.27 & 0.23 & 0.07 & 0.16 & 0.07 & 0.06\\\\\n",
    "\\text{ACC} & 0.02 & 0.01 & 0.02 & 0.02 & 0.03 & 0.04\\\\\\hline\\end{array}$$\n",
    "La probabilidad condicional $P(S=\\text{ACC} \\mid L=\\text{DÍA},C=\\text{NUB})$ es:\n",
    "1. 0.042\n",
    "2. 0.010\n",
    "3. 0.240\n",
    "4. 0.140"
   ]
  },
  {
   "cell_type": "markdown",
   "metadata": {},
   "source": [
    "<p style=\"page-break-after:always;\"></p>"
   ]
  },
  {
   "cell_type": "markdown",
   "metadata": {},
   "source": [
    "**Solución:** $\\;$ la 1."
   ]
  },
  {
   "cell_type": "markdown",
   "metadata": {},
   "source": [
    "<p style=\"page-break-after:always;\"></p>"
   ]
  },
  {
   "cell_type": "markdown",
   "metadata": {},
   "source": [
    "# T1.2 Variables continuas y regla de Bayes"
   ]
  },
  {
   "cell_type": "markdown",
   "metadata": {},
   "source": [
    "# Índice\n",
    "\n",
    "1. Variables continuas\n",
    "2. Teorema de Bayes en el caso continuo\n",
    "3. La regla de decisión de Bayes\n",
    "4. Clasificadores generativos y discriminativos"
   ]
  },
  {
   "cell_type": "markdown",
   "metadata": {},
   "source": [
    "<p style=\"page-break-after:always;\"></p>"
   ]
  },
  {
   "cell_type": "markdown",
   "metadata": {},
   "source": [
    "# 1 Variables continuas\n",
    "\n",
    "**Función de densidad de probabilidad:** $\\;$ caracterización usual de las variables continuas para la representación de conocimiento probabilístico\n",
    "$$p(x)\\geq 0 \\quad \\text{para todo $x$} \\qquad \\text{y} \\qquad \\int p(x)\\,dx = 1$$\n",
    "\n",
    "**La densidad normal:** $\\;p(x)\\sim\\mathcal{N}(\\mu, \\sigma^2)$\n",
    "$$p(x)=\\frac{1}{\\sqrt{2\\pi}\\sigma}\\exp\\left(-\\frac{(x-\\mu)^2}{2\\,\\sigma^2}\\,\\right)\\qquad%\n",
    "P(x\\in[\\mu\\pm 1.96\\sigma])=0.95$$\n",
    "\n",
    "**Ejemplo:** $\\;$ densidades normales con $\\,\\mu=0\\,$ y $\\,\\sigma^2=0.5, 1, 2$"
   ]
  },
  {
   "cell_type": "code",
   "execution_count": 2,
   "metadata": {},
   "outputs": [
    {
     "data": {
      "image/png": "[encoded data removed]",
      "text/plain": [
       "<Figure size 500x250 with 1 Axes>"
      ]
     },
     "metadata": {},
     "output_type": "display_data"
    }
   ],
   "source": [
    "import numpy as np; from scipy.stats import norm; import matplotlib.pyplot as plt\n",
    "x = np.linspace(-3, 3, 200)\n",
    "plt.figure(figsize=(5, 2.5))\n",
    "plt.plot(x, norm.pdf(x, 0, np.sqrt(0.5)), x, norm.pdf(x, 0, 1), x, norm.pdf(x, 0, np.sqrt(2)));"
   ]
  },
  {
   "cell_type": "markdown",
   "metadata": {},
   "source": [
    "# 2 Teorema de Bayes en el caso continuo\n",
    "\n",
    "**Teorema de Bayes en el caso continuo:** $\\;$ probabilidad de una hipótesis $\\,y\\,$ después de observar una evidencia (nueva) $x$\n",
    "$$P(y\\mid x) = P(y)\\,\\frac{p(x\\mid y)}{p(x)}$$\n",
    "\n",
    "**Ejemplo:** $\\;x=\\,$ resultado de un test de saliva para el diagnóstico de caries\n",
    "* Sin caries, $\\,c=0,\\,p(x\\mid c=0)\\sim\\mathcal{N}(\\mu=0, \\sigma^2=1)$\n",
    "* Con caries, $\\,c=0,\\,p(x\\mid c=1)\\sim\\mathcal{N}(\\mu=2, \\sigma^2=0.5)$\n",
    "* Sabemos que la probabilidad (a priori) de caries es: $\\,P(c=1)=0.34$\n",
    "* **Si el test da $x=2$, cuál es la probabilidad (a posteriori) de caries?**\n",
    "$$P(c=1\\mid x=2) = P(c=1)\\,\\dfrac{p(x=2\\mid c=1)}{p(x=2)} = 0.340\\,\\dfrac{0.564}{0.307} = 0.843$$\n",
    "* Observa que primero había que encontrar la (densidad de) probabilidad (a priori) de test $x=2$:\n",
    "\n",
    "$$\n",
    "\\begin{align*}\n",
    "p(x=2)&=P(c=0)p(x=2\\mid c=0)+P(c=1)p(x=2\\mid c=1)\\\\\n",
    "&=(1-0.34)\\cdot 0.054+0.34\\cdot 0.564=0.227\n",
    "\\end{align*}\n",
    "$$"
   ]
  },
  {
   "cell_type": "code",
   "execution_count": 3,
   "metadata": {},
   "outputs": [
    {
     "name": "stdout",
     "output_type": "stream",
     "text": [
      "px2Dc0 = 0.054  px2Dc1 = 0.564  px2 = 0.227  Pc1Dx2 = 0.843\n"
     ]
    }
   ],
   "source": [
    "Pc1 = 0.34; px2Dc0 = norm.pdf(2, 0, 1); px2Dc1 = norm.pdf(2, 2, np.sqrt(0.5))\n",
    "px2 = (1-Pc1) * px2Dc0 + Pc1 * px2Dc1; Pc1Dx2 = Pc1 * px2Dc1 / px2\n",
    "print(f\"px2Dc0 = {px2Dc0:.3f}  px2Dc1 = {px2Dc1:.3f}  px2 = {px2:.3f}  Pc1Dx2 = {Pc1Dx2:.3f}\")"
   ]
  },
  {
   "cell_type": "markdown",
   "metadata": {},
   "source": [
    "<p style=\"page-break-after:always;\"></p>"
   ]
  },
  {
   "cell_type": "markdown",
   "metadata": {},
   "source": [
    "# 3 La regla de decisión de Bayes\n",
    "\n",
    "**Regla de decisión de Bayes:** $\\;$ predice una hipótesis después de observar una evidencia $\\,x\\,$ mediante la elección, entre un conjunto de hipótesis posibles $\\,\\mathcal{C},\\,$ de una hipótesis de máxima **probabilidad a posteriori** (de la observación de la evidencia)\n",
    "$$c^*(x) = \\operatorname*{argmax}_{c\\in\\mathcal{C}} \\; P(c\\mid x)$$\n",
    "\n",
    "**Probabilidad de error:** $\\;$ es decir, probabilidad de que la hipótesis predicha sea distinta de la realmente producida\n",
    "$$P(\\text{error}\\mid x)=1-P(c^*(x)\\mid x)$$\n",
    "\n",
    "**Optimalidad de la regla de Bayes:** $\\;$ ninguna otra elección mejoraría esta probabilidad de error!\n",
    "\n",
    "**Ejemplo del dentista:**\n",
    "$$c^*(x=2)=\\operatorname*{argmax}_c\\left(\\begin{array}{l}\n",
    "P(c=0\\mid x=2) = 0.116\\\\ %\n",
    "P(c=1\\mid x=2) = 0.884\\end{array}\\right)=1$$"
   ]
  },
  {
   "cell_type": "markdown",
   "metadata": {},
   "source": [
    "**Regla de Bayes en función de probabilidades a priori y (densidades) condicionales de las clases:** $\\;$ en lugar (de arg-)maximizar $\\,P(c\\mid x)\\,$ en $c$, lo hacemos en función de $\\,P(c)\\,p(x\\mid c)$ puesto que el resultado es el mismo\n",
    "$$\n",
    "c^*(x) = \\operatorname*{argmax}_{c\\in\\mathcal{C}} \\; P(c\\mid x) = \\operatorname*{argmax}_{c\\in\\mathcal{C}} \\; P(c)\\,\\frac{p(x\\mid c)}{p(x)} = \\operatorname*{argmax}_{c\\in\\mathcal{C}} \\; P(c)\\,p(x\\mid c)\n",
    "$$\n",
    "\n",
    "**Ejemplo del dentista:**\n",
    "$$c^*(x=2)=\\operatorname*{argmax}_c\\left(\\begin{array}{l}\n",
    "P(c=0)\\,p(x=2\\mid c=0) = 0.036\\\\ %\n",
    "P(c=1)\\,p(x=2\\mid c=1) = 0.271\n",
    "\\end{array}\\right)=1$$"
   ]
  },
  {
   "cell_type": "markdown",
   "metadata": {},
   "source": [
    "<!--\n",
    "<p style=\"page-break-after:always;\"></p>\n",
    "-->"
   ]
  },
  {
   "cell_type": "markdown",
   "metadata": {},
   "source": [
    "<!--\n",
    "# 4 Clasificadores generativos y discriminativos\n",
    "\n",
    "**Regla de Bayes en clasificación:** $\\;$ las hipótesis son las clases y la evidencia $x$ es un objeto que clasificamos con mínima probabilidad de error\n",
    "$$c^*(x) = \\operatorname*{argmax}_{c\\in\\mathcal{C}} \\; P(c\\mid x) %\n",
    "= \\operatorname*{argmax}_{c\\in\\mathcal{C}} \\; p(x, c) %\n",
    "= \\operatorname*{argmax}_{c\\in\\mathcal{C}} \\; P(c)\\,p(x\\mid c)$$\n",
    "\n",
    "**Clasificadores generativos:** $\\;$ clasifican a partir de priors y densidades condicionales (estimadas)\n",
    "\n",
    "**Clasificadores discriminativos:** $\\;$ clasifican a partir de las posteriors (estimadas) directamente\n",
    "\n",
    "**Comparación básica entre generativos y discriminativos:**\n",
    "* **Preproceso de características:** $\\;$ más flexibles los discriminativos porque, a diferencia de los generativos, no requieren modelar densidades de probabilidad sobre el espacio de representación de los datos\n",
    "* **Dificultad del aprendizaje:** $\\;$ más fácil en el caso de los generativos, usualmente con cuentas y medianas\n",
    "* **Precisión predictiva:** $\\;$ mejor los discriminativos puesto que modelar $\\,P(c\\mid x)\\,$ directamente suele ser más fácil que hacerlo por medio de las condicionales de las clases\n",
    "* **Tratamiento de nuevas clases:** $\\;$ más sencillo en el caso de los generativos porque permiten añadir clases nuevas a un problema sin re-entrenar las condicionales de las clases anteriores\n",
    "-->"
   ]
  },
  {
   "cell_type": "markdown",
   "metadata": {},
   "source": [
    "# Ejercicios T1.2 Variables continuas y regla de Bayes"
   ]
  },
  {
   "cell_type": "markdown",
   "metadata": {},
   "source": [
    "**Problema:** $\\;$ Considerad la clasificación de flores iris en setosa o no-setosa a partir de la longitud de pétalos, $x$. El estudio empírico siguiente muestra que las distribuciones de $x$ para setosas y no-setosas pueden aproximarse con distribuciones normales de medias y desviaciones estándares:\n",
    "$$p(x\\mid c=\\text{set})\\sim\\mathcal{N}(\\mu_{\\text{set}}=1.46,\\sigma_{\\text{set}}=0.17)%\n",
    "\\qquad\\text{y}\\qquad%\n",
    "p(x\\mid c=\\text{nos})\\sim\\mathcal{N}(\\mu_{\\text{nos}}=4.91,\\sigma_{\\text{nos}}=0.82)$$"
   ]
  },
  {
   "cell_type": "code",
   "execution_count": 1,
   "metadata": {},
   "outputs": [
    {
     "data": {
      "image/png": "[encoded data removed]",
      "text/plain": [
       "<Figure size 800x200 with 2 Axes>"
      ]
     },
     "metadata": {},
     "output_type": "display_data"
    }
   ],
   "source": [
    "import numpy as np; import matplotlib.pyplot as plt\n",
    "from sklearn.datasets import load_iris; from scipy.stats import norm\n",
    "iris = load_iris(); X = iris.data.astype(np.float16); y = iris.target.astype(np.uint)\n",
    "x_set = np.squeeze(X[np.where(y==0), 2]); x_nos = np.squeeze(X[np.where(y!=0), 2])\n",
    "fig, axs = plt.subplots(1, 2, figsize=(8, 2), sharey=True, tight_layout=True)\n",
    "axs[0].hist(x_set, bins='auto', density=True, histtype='step')\n",
    "x_set_range = np.arange(*axs[0].get_xlim(), .01)\n",
    "x_set_mean = x_set.mean(); x_set_dev = np.sqrt(x_set.var())\n",
    "axs[0].set_title(f'setosa: m={x_set_mean:.2f}  dev={x_set_dev:.2f}')\n",
    "axs[0].plot(x_set_range, norm.pdf(x_set_range, x_set_mean, x_set_dev))\n",
    "axs[1].hist(x_nos, bins='auto', density=True, histtype='step')\n",
    "x_nos_range = np.arange(*axs[1].get_xlim(), .01)\n",
    "x_nos_mean = x_nos.mean(); x_nos_dev = np.sqrt(x_nos.var())\n",
    "axs[1].set_title(f'no setosa: m={x_nos_mean:.2f}  dev={x_nos_dev:.2f}')\n",
    "axs[1].plot(x_nos_range, norm.pdf(x_nos_range, x_nos_mean, x_nos_dev));"
   ]
  },
  {
   "cell_type": "markdown",
   "metadata": {},
   "source": [
    "Si las densidades normales estimadas son ciertas y la probabilidad a priori de setosa es $1/3$, ¿cuál es la probabilidad a posteriori de que una flor de longitud de pétalos $2$ sea setosa?"
   ]
  },
  {
   "cell_type": "markdown",
   "metadata": {},
   "source": [
    "**Solución:**\n",
    "$$\\begin{align*}\n",
    "P&(c=\\text{set}\\mid x=2)%\n",
    "=\\frac{P(c=\\text{set})\\,p(x=2\\mid c=\\text{set})}{p(x=2)}\\\\\n",
    "&=\\frac{P(c=\\text{set})\\,p(x=2\\mid c=\\text{set})}{P(c=\\text{set})\\,p(x=2\\mid c=\\text{set})+P(c=\\text{nos})\\,p(x=2\\mid c=\\text{nos})}\\\\\n",
    "&=\\frac{1/3\\cdot\\mathcal{N}(x=2\\mid\\mu_{\\text{set}}=1.46,\\sigma_{\\text{set}}=0.17)}{1/3\\cdot\\mathcal{N}(x=2\\mid\\mu_{\\text{set}}=1.46,\\sigma_{\\text{set}}=0.17)+2/3\\cdot\\mathcal{N}(x=2\\mid\\mu_{\\text{nos}}=4.91,\\sigma_{\\text{nos}}=0.82)}\\\\\n",
    "&=\\frac{\\frac{1}{0.17}\\exp\\left(-\\frac{(2-1.46)^2}{2\\cdot 0.17^2}\\,\\right)}{\\frac{1}{0.17}\\exp\\left(-\\frac{(2-1.46)^2}{2\\cdot 0.17^2}\\,\\right)+\\frac{2}{0.82}\\exp\\left(-\\frac{(2-4.91)^2}{2\\cdot 0.82^2}\\,\\right)}%\n",
    "=\\frac{0.0379}{0.0379+0.0045}=0.89\n",
    "\\end{align*}$$"
   ]
  }
 ],
 "metadata": {
  "kernelspec": {
   "display_name": "Python 3",
   "language": "python",
   "name": "python3"
  },
  "language_info": {
   "codemirror_mode": {
    "name": "ipython",
    "version": 3
   },
   "file_extension": ".py",
   "mimetype": "text/x-python",
   "name": "python",
   "nbconvert_exporter": "python",
   "pygments_lexer": "ipython3",
   "version": "3.11.6"
  }
 },
 "nbformat": 4,
 "nbformat_minor": 2
}
