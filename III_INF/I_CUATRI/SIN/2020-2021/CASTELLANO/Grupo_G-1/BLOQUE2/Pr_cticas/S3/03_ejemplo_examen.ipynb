{
  "cells": [
    {
      "cell_type": "markdown",
      "metadata": {
        "id": "OPZTwpUOGokZ"
      },
      "source": [
        "<p style=\"page-break-after:always;\"></p>"
      ]
    },
    {
      "cell_type": "markdown",
      "metadata": {
        "id": "-cUMIg9wGokb"
      },
      "source": [
        "A continuación se muestra un resultado inicial (baseline) usando un clasificador de regresión logística estimado con los parámetros por defecto y dedicando un 90% de los datos para entrenamiento y un 10% para evaluación (random_state=23)."
      ]
    },
    {
      "cell_type": "code",
      "execution_count": null,
      "metadata": {
        "id": "7fnJaAVuGokb"
      },
      "outputs": [],
      "source": [
        "import warnings; warnings.filterwarnings(\"ignore\"); import numpy as np\n",
        "from sklearn.datasets import fetch_openml\n",
        "from sklearn.model_selection import train_test_split\n",
        "from sklearn.linear_model import LogisticRegression\n",
        "from sklearn.metrics import accuracy_score\n",
        "\n",
        "data_id = 1461\n",
        "test_size = 0.1\n",
        "X, y = fetch_openml(data_id=data_id, return_X_y=True, as_frame=False, parser=\"liac-arff\")\n",
        "# Valores de los parámetros por defecto: tol=1e-4, C=1e0, solver='lbfgs', max_iter=1e2\n",
        "X_train, X_test, y_train, y_test = train_test_split(X, y, test_size=test_size, random_state=23)\n",
        "clf = LogisticRegression(random_state=23).fit(X_train, y_train)\n",
        "print(f'Test error: {(1 - accuracy_score(y_test, clf.predict(X_test)))*100:5.1f}%')"
      ]
    },
    {
      "cell_type": "markdown",
      "metadata": {
        "id": "xblaNmflGokc"
      },
      "source": [
        "<p style=\"page-break-after:always;\"></p>"
      ]
    },
    {
      "cell_type": "markdown",
      "metadata": {
        "id": "okgvh-LPGokc"
      },
      "source": [
        "### Ejercicio 1\n",
        "Aplicando el clasificador de regresión logística con los valores de los parámetros por defecto excepto para el parámetro C, explora los valores del parámetro C en escala logarítmica para determinar su valor óptimo. Para cada valor explorado, muestra el error de clasificación en porcentaje sobre los conjuntos de entrenamiento y test. Usa random_state=23."
      ]
    },
    {
      "cell_type": "code",
      "execution_count": null,
      "metadata": {
        "id": "4NcPfGC7Gokc"
      },
      "outputs": [],
      "source": [
        "print('   solver   tol      C   max_iter   etr   ete')\n",
        "print('--------- ------- ------- -------- ----- -----')\n",
        "for solver in ['lbfgs']:\n",
        "    for tol in [1e-4]:\n",
        "        for C in [1e-3, 1e-2, 1e-1, 1e0, 1e1, 1e2, 1e3]:\n",
        "            for max_iter in [100]:\n",
        "                clf = LogisticRegression(solver=solver, tol=tol, C=C, max_iter=max_iter, random_state=23).fit(X_train, y_train)\n",
        "                etr = 1 - accuracy_score(y_train, clf.predict(X_train))\n",
        "                ete = 1 - accuracy_score(y_test, clf.predict(X_test))\n",
        "                print(f'{solver:>9} {tol:.1e} {C:.1e} {max_iter:8d} {etr:5.1%} {ete:5.1%}')"
      ]
    },
    {
      "cell_type": "markdown",
      "metadata": {
        "id": "Xi9kxz-6Gokc"
      },
      "source": [
        "<p style=\"page-break-after:always;\"></p>"
      ]
    },
    {
      "cell_type": "markdown",
      "metadata": {
        "id": "7pNc0HpuGokd"
      },
      "source": [
        "### Ejercicio 2\n",
        "Aplicando el clasificador de regresión logística con los valores de los parámetros por defecto excepto para el parámetro C que debe ser fijado al mejor valor obtenido en el ejercicio 1, explora el máximo número de iteraciones en escala logarítimca para determinar su valor óptimo. Para cada valor explorado, muestra el error de clasificación en porcentaje sobre los conjuntos de entrenamiento y test. Usa random_state=23."
      ]
    },
    {
      "cell_type": "code",
      "execution_count": null,
      "metadata": {
        "id": "SwK_IO07Gokd"
      },
      "outputs": [],
      "source": [
        "print('   solver   tol      C    max_iter  etr   ete')\n",
        "print('--------- ------- ------- -------- ----- -----')\n",
        "for solver in ['lbfgs']:\n",
        "    for tol in [1e-4]:\n",
        "        for C in []:\n",
        "            for max_iter in [100, 200, 500, 1000, 2000, 5000, 10000]:\n",
        "                clf = LogisticRegression(solver=solver, tol=tol, C=C, max_iter=max_iter, random_state=23).fit(X_train, y_train)\n",
        "                etr = 1 - accuracy_score(y_train, clf.predict(X_train))\n",
        "                ete = 1 - accuracy_score(y_test, clf.predict(X_test))\n",
        "                print(f'{solver:>9} {tol:.1e} {C:.1e} {max_iter:8d} {etr:5.1%} {ete:5.1%}')"
      ]
    },
    {
      "cell_type": "markdown",
      "metadata": {
        "id": "dpNK_mi6Gokd"
      },
      "source": [
        "<p style=\"page-break-after:always;\"></p>"
      ]
    },
    {
      "cell_type": "markdown",
      "metadata": {
        "id": "VodTZjODGokd"
      },
      "source": [
        "### Ejercicio 3\n",
        "Aplicando el clasificador de regresión logística con los valores de los parámetros por defecto excepto para el parámetro C y el máximo número de iteraciones que deben ser fijados a los mejores valores obtenidos en los ejercicios 1 y 2, explora difertentes tipos de solver. Para cada solver explorado, muestra el error de clasificación en porcentaje sobre los conjuntos de entrenamiento y test. Usa random_state=23."
      ]
    },
    {
      "cell_type": "code",
      "execution_count": null,
      "metadata": {
        "id": "_bSaS58NGokd"
      },
      "outputs": [],
      "source": [
        "print('       solver     tol      C    max_iter  etr   ete')\n",
        "print('--------------- ------- ------- -------- ----- -----')\n",
        "for solver in ['lbfgs', 'liblinear', 'newton-cg', 'newton-cholesky', 'sag', 'saga']:\n",
        "    for tol in [1e-4]:\n",
        "        for C in []:\n",
        "            for max_iter in []:\n",
        "                clf = LogisticRegression(solver=solver, tol=tol, C=C, random_state=23, max_iter=max_iter).fit(X_train, y_train)\n",
        "                etr = 1 - accuracy_score(y_train, clf.predict(X_train))\n",
        "                ete = 1 - accuracy_score(y_test, clf.predict(X_test))\n",
        "                print(f'{solver:>15} {tol:.1e} {C:.1e} {max_iter:8d} {etr:5.1%} {ete:5.1%}')"
      ]
    },
    {
      "cell_type": "markdown",
      "source": [
        "###Ejercicio 4\n",
        "Aplicando el clasificador de regresión logística con los valores de C, el máximo número de iteraciones y solver que deben ser fijados a los mejores valores obtenidos en los ejercicios 1, 2, y 3, explora diferentes valores de tolerancia. Para cada tolerancia, muestra el error de clasificación en porcentaje sobre los conjuntos de entrenamiento y test. Usa random_state=23."
      ],
      "metadata": {
        "id": "J0Mucs71Jhd-"
      }
    },
    {
      "cell_type": "code",
      "source": [
        "print('       solver     tol      C    max_iter  etr   ete')\n",
        "print('--------------- ------- ------- -------- ----- -----')\n",
        "for solver in []:\n",
        "    for tol in [1e-4, 1e-3, 1e-2, 1e-1]:\n",
        "        for C in []:\n",
        "            for max_iter in []:\n",
        "                clf = LogisticRegression(solver=solver, tol=tol, C=C, random_state=23, max_iter=max_iter).fit(X_train, y_train)\n",
        "                etr = 1 - accuracy_score(y_train, clf.predict(X_train))\n",
        "                ete = 1 - accuracy_score(y_test, clf.predict(X_test))\n",
        "                print(f'{solver:>15} {tol:.1e} {C:.1e} {max_iter:8d} {etr:5.1%} {ete:5.1%}')"
      ],
      "metadata": {
        "id": "jMR4bJGnHczm"
      },
      "execution_count": null,
      "outputs": []
    },
    {
      "cell_type": "markdown",
      "metadata": {
        "id": "eWNHMCfKGoke"
      },
      "source": [
        "### Ejercicio 5\n",
        "De acuerdo a los resultados obtenidos, se podría afirmar que esta tarea es linealmente separable? Razona la respuesta."
      ]
    },
    {
      "cell_type": "markdown",
      "metadata": {
        "id": "mIDe1yP6Goke"
      },
      "source": [
        "No se podría afirmar que la tarea sea linealmente separable ya que los porcentajes de error obtenidos están lejos de cero por lo que es razonable afirmar que esta tarea no debe ser linealmente separable."
      ]
    }
  ],
  "metadata": {
    "kernelspec": {
      "display_name": "Python 3 (ipykernel)",
      "language": "python",
      "name": "python3"
    },
    "language_info": {
      "codemirror_mode": {
        "name": "ipython",
        "version": 3
      },
      "file_extension": ".py",
      "mimetype": "text/x-python",
      "name": "python",
      "nbconvert_exporter": "python",
      "pygments_lexer": "ipython3",
      "version": "3.11.5"
    },
    "colab": {
      "provenance": []
    }
  },
  "nbformat": 4,
  "nbformat_minor": 0
}